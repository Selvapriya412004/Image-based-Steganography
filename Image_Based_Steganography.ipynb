{
  "nbformat": 4,
  "nbformat_minor": 0,
  "metadata": {
    "colab": {
      "provenance": [],
      "mount_file_id": "16yZZRJaSo1U2FI5wBsEUl2_DAEEWI14g",
      "authorship_tag": "ABX9TyO645lv3/El1UwPXmCo4o0c",
      "include_colab_link": true
    },
    "kernelspec": {
      "name": "python3",
      "display_name": "Python 3"
    },
    "language_info": {
      "name": "python"
    }
  },
  "cells": [
    {
      "cell_type": "markdown",
      "metadata": {
        "id": "view-in-github",
        "colab_type": "text"
      },
      "source": [
        "<a href=\"https://colab.research.google.com/github/Selvapriya412004/Image-based-Steganography/blob/main/Image_Based_Steganography.ipynb\" target=\"_parent\"><img src=\"https://colab.research.google.com/assets/colab-badge.svg\" alt=\"Open In Colab\"/></a>"
      ]
    },
    {
      "cell_type": "code",
      "execution_count": 13,
      "metadata": {
        "colab": {
          "base_uri": "https://localhost:8080/"
        },
        "id": "pgxYkwhxVsTn",
        "outputId": "9fb89dd6-ebba-4caa-d9c8-1a54e0060041"
      },
      "outputs": [
        {
          "output_type": "stream",
          "name": "stdout",
          "text": [
            "Decoded Message: None\n"
          ]
        }
      ],
      "source": [
        "from PIL import Image\n",
        "\n",
        "# Encode a message into an image using LSB steganography\n",
        "def encode_image(image_path, message, output_path):\n",
        "    image = Image.open(image_path)\n",
        "    width, height = image.size\n",
        "\n",
        "    message += \"\\0\"  # Add null terminator to indicate the end of the message\n",
        "\n",
        "    binary_message = ''.join(format(ord(char), '08b') for char in message)\n",
        "    data_index = 0\n",
        "\n",
        "    for x in range(width):\n",
        "        for y in range(height):\n",
        "            pixel = list(image.getpixel((x, y)))\n",
        "\n",
        "            for color_channel in range(3):  # RGB channels\n",
        "                if data_index < len(binary_message):\n",
        "                    pixel[color_channel] = pixel[color_channel] & 0xFE | int(binary_message[data_index])\n",
        "                    data_index += 1\n",
        "\n",
        "            image.putpixel((x, y), tuple(pixel))\n",
        "\n",
        "            if data_index >= len(binary_message):\n",
        "                break\n",
        "\n",
        "    image.save(output_path)\n",
        "\n",
        "# Decode a hidden message from an image using LSB steganography\n",
        "# Decode a hidden message from an image using LSB steganography\n",
        "def decode_image(image_path):\n",
        "    image = Image.open(image_path)\n",
        "    width, height = image.size\n",
        "\n",
        "    binary_message = ''\n",
        "    data_index = 0\n",
        "\n",
        "    for x in range(width):\n",
        "        for y in range(height):\n",
        "            pixel = list(image.getpixel((x, y)))\n",
        "\n",
        "            for color_channel in range(3):\n",
        "                binary_message += str(pixel[color_channel] & 1)\n",
        "                data_index += 1\n",
        "\n",
        "                if data_index % 8 == 0:\n",
        "                    char = chr(int(binary_message, 2))\n",
        "                    binary_message = ''  # Reset binary_message for the next character\n",
        "\n",
        "                    if char == '\\0':\n",
        "                        return  # Message complete\n",
        "\n",
        "# Example usage:\n",
        "# Encode a message into an image\n",
        "encode_image(\"/content/drive/MyDrive/1.jpg\", \"This is a hidden message\", \"output_image.png\")\n",
        "\n",
        "# Decode a message from an image\n",
        "decoded_message = decode_image(\"output_image.png\")\n",
        "print(\"Decoded Message:\", decoded_message)"
      ]
    }
  ]
}